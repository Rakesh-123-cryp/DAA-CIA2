{
 "cells": [
  {
   "cell_type": "code",
   "execution_count": null,
   "metadata": {},
   "outputs": [],
   "source": [
    "import numpy as np\n",
    "import pandas as pd\n",
    "import random\n",
    "\n",
    "from sklearn.preprocessing import StandardScaler\n",
    "from sklearn.model_selection import train_test_split"
   ]
  },
  {
   "cell_type": "code",
   "execution_count": null,
   "metadata": {},
   "outputs": [],
   "source": [
    "import tensorflow as tf\n",
    "from tensorflow.keras.models import Sequential\n",
    "from tensorflow.keras.layers import Dense"
   ]
  },
  {
   "cell_type": "code",
   "execution_count": null,
   "metadata": {},
   "outputs": [],
   "source": [
    "df = pd.read_csv(\"Bank_Personal_Loan_Modelling.csv\")\n",
    "data.drop([\"ZIP Code\",\"ID\",\"CD Account\",\"Securities Account\",\"Personal Loan\"],axis=1,inplace=True)\n",
    "y = df.pop(\"Credit Card\")\n",
    "x = df\n",
    "x = StandardScaler().fit_transform(x)"
   ]
  },
  {
   "cell_type": "code",
   "execution_count": null,
   "metadata": {},
   "outputs": [],
   "source": [
    "def ant_colony_optimization(x_train, y_train, n_ants=10, n_iterations=100, evaporation_rate=0.1, alpha=1, beta=1):\n",
    "    pheromones = np.ones(x_train.shape[1])\n",
    "\n",
    "    for i in range(n_iterations):\n",
    "        ant_positions = np.zeros((n_ants, x_train.shape[1]))\n",
    "\n",
    "        for j in range(x_train.shape[1]):\n",
    "            for k in range(n_ants):\n",
    "                probabilities = (pheromones ** alpha) * ((1 / np.expand_dims(x_train[:,j], axis=1)) ** beta)\n",
    "                probabilities *= np.tile(probabilities.sum(axis=1, keepdims=True), (1, x_train.shape[1]))\n",
    "                probabilities /= (probabilities.sum(axis=1, keepdims=True) + 1e-8) # Add a small value to avoid division by zero\n",
    "                cum_probabilities = np.cumsum(probabilities[:,j])\n",
    "                random_number = np.random.random()\n",
    "                feature_choice = np.argmax(cum_probabilities >= random_number)\n",
    "                ant_positions[k, j] = x_train[feature_choice, j]\n",
    "                probabilities /= probabilities.sum(axis=1, keepdims=True)\n",
    "\n",
    "        ant_fitness = np.zeros(n_ants)\n",
    "        for j in range(n_ants):\n",
    "            model = Sequential()\n",
    "            model.add(tf.keras.Input(shape=(x_train.shape[1],)))\n",
    "            model.add(Dense(32, activation='relu', weights=[np.repeat(ant_positions[j,:], 32).reshape((11, 32)), np.zeros(32)]))\n",
    "            model.add(Dense(1,activation='sigmoid', weights=[np.zeros((32, 1)), np.zeros(1)]))\n",
    "            model.compile(loss='binary_crossentropy', optimizer='rmsprop', metrics=['accuracy'])\n",
    "            _, accuracy = model.evaluate(x_train, y_train, verbose=0)\n",
    "            ant_fitness[j] = accuracy\n",
    "\n",
    "        pheromones *= (1 - evaporation_rate)\n",
    "        pheromones += (evaporation_rate * np.mean(ant_positions[ant_fitness == np.max(ant_fitness)], axis=0))\n",
    "\n",
    "    best_weights = ant_positions[np.argmax(ant_fitness)]\n",
    "    return best_weights"
   ]
  },
  {
   "cell_type": "code",
   "execution_count": null,
   "metadata": {},
   "outputs": [],
   "source": [
    "x_train, x_test, y_train, y_test = train_test_split(x, y, test_size=0.25)\n",
    "best_weights = ant_colony_optimization(x_train, y_train)"
   ]
  },
  {
   "cell_type": "code",
   "execution_count": null,
   "metadata": {},
   "outputs": [],
   "source": [
    "model = Sequential()\n",
    "model.add(tf.keras.Input(shape=(8,)))\n",
    "model.add(Dense(32,activation='relu', weights=[np.repeat(best_weights, 32).reshape((8, 32)), np.zeros(32)]))\n",
    "model.add(Dense(1,activation='sigmoid', weights=[np.zeros((32, 1)), np.zeros(1)]))\n",
    "model.compile(loss='binary_crossentropy', optimizer='rmsprop', metrics=['accuracy'])"
   ]
  },
  {
   "cell_type": "code",
   "execution_count": null,
   "metadata": {},
   "outputs": [],
   "source": [
    "model.fit(x_train, y_train, epochs=50)\n",
    "accuracy = model.evaluate(x=x_test, y=y_test, verbose=0)[1]\n",
    "print(f\"Test accuracy: {accuracy*100:.4f}%\")"
   ]
  }
 ],
 "metadata": {
  "kernelspec": {
   "display_name": "Python 3 (ipykernel)",
   "language": "python",
   "name": "python3"
  },
  "language_info": {
   "codemirror_mode": {
    "name": "ipython",
    "version": 3
   },
   "file_extension": ".py",
   "mimetype": "text/x-python",
   "name": "python",
   "nbconvert_exporter": "python",
   "pygments_lexer": "ipython3",
   "version": "3.10.5"
  }
 },
 "nbformat": 4,
 "nbformat_minor": 2
}
